{
  "nbformat": 4,
  "nbformat_minor": 0,
  "metadata": {
    "colab": {
      "provenance": [],
      "mount_file_id": "1hIDooTc-EQd6FuSRcq_NtpggnM8BkxkT",
      "authorship_tag": "ABX9TyNZn8LGf/BFPZsnqPHq6OSO",
      "include_colab_link": true
    },
    "kernelspec": {
      "name": "python3",
      "display_name": "Python 3"
    },
    "language_info": {
      "name": "python"
    }
  },
  "cells": [
    {
      "cell_type": "markdown",
      "metadata": {
        "id": "view-in-github",
        "colab_type": "text"
      },
      "source": [
        "<a href=\"https://colab.research.google.com/github/DannyNguyen24-Vietnam/Artificial-Intelligence-Course-A-better-visualization-approach---Week-03/blob/main/ARIN_Course_03_BetterApproach.ipynb\" target=\"_parent\"><img src=\"https://colab.research.google.com/assets/colab-badge.svg\" alt=\"Open In Colab\"/></a>"
      ]
    },
    {
      "cell_type": "markdown",
      "source": [
        "**Requirements:**\n",
        "\n",
        "**=========================================================================**\\\n",
        "In this part, a better approach on visualizing data with Pandas is presented\\\n",
        "**=========================================================================**"
      ],
      "metadata": {
        "id": "xixpU_Qw0ZcI"
      }
    },
    {
      "cell_type": "code",
      "source": [
        "# Import libraries\n",
        "import numpy as np\n",
        "import pandas as pd\n",
        "import matplotlib.pyplot as plt"
      ],
      "metadata": {
        "id": "gSQgLS_liOEx"
      },
      "execution_count": 1,
      "outputs": []
    },
    {
      "cell_type": "code",
      "source": [
        "# Data from Website\n",
        "file_url = 'http://winterolympicsmedals.com/medals.csv'\n",
        "medaldata = pd.read_csv(file_url)"
      ],
      "metadata": {
        "id": "KoZQey1mz1Aw"
      },
      "execution_count": 2,
      "outputs": []
    },
    {
      "cell_type": "code",
      "source": [
        "# Visualization of the first ten values\n",
        "medaldata.head(10)"
      ],
      "metadata": {
        "colab": {
          "base_uri": "https://localhost:8080/",
          "height": 363
        },
        "id": "Fu2IL9Y0z1L_",
        "outputId": "8ebf6e6b-6aa8-4f6c-a9db-9e5c345ca188"
      },
      "execution_count": 3,
      "outputs": [
        {
          "output_type": "execute_result",
          "data": {
            "text/plain": [
              "   Year      City       Sport      Discipline  NOC            Event  \\\n",
              "0  1924  Chamonix     Skating  Figure skating  AUT       individual   \n",
              "1  1924  Chamonix     Skating  Figure skating  AUT       individual   \n",
              "2  1924  Chamonix     Skating  Figure skating  AUT            pairs   \n",
              "3  1924  Chamonix   Bobsleigh       Bobsleigh  BEL         four-man   \n",
              "4  1924  Chamonix  Ice Hockey      Ice Hockey  CAN       ice hockey   \n",
              "5  1924  Chamonix    Biathlon        Biathlon  FIN  military patrol   \n",
              "6  1924  Chamonix     Skating  Figure skating  FIN            pairs   \n",
              "7  1924  Chamonix     Skating   Speed skating  FIN           10000m   \n",
              "8  1924  Chamonix     Skating   Speed skating  FIN           10000m   \n",
              "9  1924  Chamonix     Skating   Speed skating  FIN            1500m   \n",
              "\n",
              "  Event gender   Medal  \n",
              "0            M  Silver  \n",
              "1            W    Gold  \n",
              "2            X    Gold  \n",
              "3            M  Bronze  \n",
              "4            M    Gold  \n",
              "5            M  Silver  \n",
              "6            X  Silver  \n",
              "7            M    Gold  \n",
              "8            M  Silver  \n",
              "9            M    Gold  "
            ],
            "text/html": [
              "\n",
              "  <div id=\"df-b6aa7aa0-741c-4f00-a0a1-2a54c531fa33\">\n",
              "    <div class=\"colab-df-container\">\n",
              "      <div>\n",
              "<style scoped>\n",
              "    .dataframe tbody tr th:only-of-type {\n",
              "        vertical-align: middle;\n",
              "    }\n",
              "\n",
              "    .dataframe tbody tr th {\n",
              "        vertical-align: top;\n",
              "    }\n",
              "\n",
              "    .dataframe thead th {\n",
              "        text-align: right;\n",
              "    }\n",
              "</style>\n",
              "<table border=\"1\" class=\"dataframe\">\n",
              "  <thead>\n",
              "    <tr style=\"text-align: right;\">\n",
              "      <th></th>\n",
              "      <th>Year</th>\n",
              "      <th>City</th>\n",
              "      <th>Sport</th>\n",
              "      <th>Discipline</th>\n",
              "      <th>NOC</th>\n",
              "      <th>Event</th>\n",
              "      <th>Event gender</th>\n",
              "      <th>Medal</th>\n",
              "    </tr>\n",
              "  </thead>\n",
              "  <tbody>\n",
              "    <tr>\n",
              "      <th>0</th>\n",
              "      <td>1924</td>\n",
              "      <td>Chamonix</td>\n",
              "      <td>Skating</td>\n",
              "      <td>Figure skating</td>\n",
              "      <td>AUT</td>\n",
              "      <td>individual</td>\n",
              "      <td>M</td>\n",
              "      <td>Silver</td>\n",
              "    </tr>\n",
              "    <tr>\n",
              "      <th>1</th>\n",
              "      <td>1924</td>\n",
              "      <td>Chamonix</td>\n",
              "      <td>Skating</td>\n",
              "      <td>Figure skating</td>\n",
              "      <td>AUT</td>\n",
              "      <td>individual</td>\n",
              "      <td>W</td>\n",
              "      <td>Gold</td>\n",
              "    </tr>\n",
              "    <tr>\n",
              "      <th>2</th>\n",
              "      <td>1924</td>\n",
              "      <td>Chamonix</td>\n",
              "      <td>Skating</td>\n",
              "      <td>Figure skating</td>\n",
              "      <td>AUT</td>\n",
              "      <td>pairs</td>\n",
              "      <td>X</td>\n",
              "      <td>Gold</td>\n",
              "    </tr>\n",
              "    <tr>\n",
              "      <th>3</th>\n",
              "      <td>1924</td>\n",
              "      <td>Chamonix</td>\n",
              "      <td>Bobsleigh</td>\n",
              "      <td>Bobsleigh</td>\n",
              "      <td>BEL</td>\n",
              "      <td>four-man</td>\n",
              "      <td>M</td>\n",
              "      <td>Bronze</td>\n",
              "    </tr>\n",
              "    <tr>\n",
              "      <th>4</th>\n",
              "      <td>1924</td>\n",
              "      <td>Chamonix</td>\n",
              "      <td>Ice Hockey</td>\n",
              "      <td>Ice Hockey</td>\n",
              "      <td>CAN</td>\n",
              "      <td>ice hockey</td>\n",
              "      <td>M</td>\n",
              "      <td>Gold</td>\n",
              "    </tr>\n",
              "    <tr>\n",
              "      <th>5</th>\n",
              "      <td>1924</td>\n",
              "      <td>Chamonix</td>\n",
              "      <td>Biathlon</td>\n",
              "      <td>Biathlon</td>\n",
              "      <td>FIN</td>\n",
              "      <td>military patrol</td>\n",
              "      <td>M</td>\n",
              "      <td>Silver</td>\n",
              "    </tr>\n",
              "    <tr>\n",
              "      <th>6</th>\n",
              "      <td>1924</td>\n",
              "      <td>Chamonix</td>\n",
              "      <td>Skating</td>\n",
              "      <td>Figure skating</td>\n",
              "      <td>FIN</td>\n",
              "      <td>pairs</td>\n",
              "      <td>X</td>\n",
              "      <td>Silver</td>\n",
              "    </tr>\n",
              "    <tr>\n",
              "      <th>7</th>\n",
              "      <td>1924</td>\n",
              "      <td>Chamonix</td>\n",
              "      <td>Skating</td>\n",
              "      <td>Speed skating</td>\n",
              "      <td>FIN</td>\n",
              "      <td>10000m</td>\n",
              "      <td>M</td>\n",
              "      <td>Gold</td>\n",
              "    </tr>\n",
              "    <tr>\n",
              "      <th>8</th>\n",
              "      <td>1924</td>\n",
              "      <td>Chamonix</td>\n",
              "      <td>Skating</td>\n",
              "      <td>Speed skating</td>\n",
              "      <td>FIN</td>\n",
              "      <td>10000m</td>\n",
              "      <td>M</td>\n",
              "      <td>Silver</td>\n",
              "    </tr>\n",
              "    <tr>\n",
              "      <th>9</th>\n",
              "      <td>1924</td>\n",
              "      <td>Chamonix</td>\n",
              "      <td>Skating</td>\n",
              "      <td>Speed skating</td>\n",
              "      <td>FIN</td>\n",
              "      <td>1500m</td>\n",
              "      <td>M</td>\n",
              "      <td>Gold</td>\n",
              "    </tr>\n",
              "  </tbody>\n",
              "</table>\n",
              "</div>\n",
              "      <button class=\"colab-df-convert\" onclick=\"convertToInteractive('df-b6aa7aa0-741c-4f00-a0a1-2a54c531fa33')\"\n",
              "              title=\"Convert this dataframe to an interactive table.\"\n",
              "              style=\"display:none;\">\n",
              "        \n",
              "  <svg xmlns=\"http://www.w3.org/2000/svg\" height=\"24px\"viewBox=\"0 0 24 24\"\n",
              "       width=\"24px\">\n",
              "    <path d=\"M0 0h24v24H0V0z\" fill=\"none\"/>\n",
              "    <path d=\"M18.56 5.44l.94 2.06.94-2.06 2.06-.94-2.06-.94-.94-2.06-.94 2.06-2.06.94zm-11 1L8.5 8.5l.94-2.06 2.06-.94-2.06-.94L8.5 2.5l-.94 2.06-2.06.94zm10 10l.94 2.06.94-2.06 2.06-.94-2.06-.94-.94-2.06-.94 2.06-2.06.94z\"/><path d=\"M17.41 7.96l-1.37-1.37c-.4-.4-.92-.59-1.43-.59-.52 0-1.04.2-1.43.59L10.3 9.45l-7.72 7.72c-.78.78-.78 2.05 0 2.83L4 21.41c.39.39.9.59 1.41.59.51 0 1.02-.2 1.41-.59l7.78-7.78 2.81-2.81c.8-.78.8-2.07 0-2.86zM5.41 20L4 18.59l7.72-7.72 1.47 1.35L5.41 20z\"/>\n",
              "  </svg>\n",
              "      </button>\n",
              "      \n",
              "  <style>\n",
              "    .colab-df-container {\n",
              "      display:flex;\n",
              "      flex-wrap:wrap;\n",
              "      gap: 12px;\n",
              "    }\n",
              "\n",
              "    .colab-df-convert {\n",
              "      background-color: #E8F0FE;\n",
              "      border: none;\n",
              "      border-radius: 50%;\n",
              "      cursor: pointer;\n",
              "      display: none;\n",
              "      fill: #1967D2;\n",
              "      height: 32px;\n",
              "      padding: 0 0 0 0;\n",
              "      width: 32px;\n",
              "    }\n",
              "\n",
              "    .colab-df-convert:hover {\n",
              "      background-color: #E2EBFA;\n",
              "      box-shadow: 0px 1px 2px rgba(60, 64, 67, 0.3), 0px 1px 3px 1px rgba(60, 64, 67, 0.15);\n",
              "      fill: #174EA6;\n",
              "    }\n",
              "\n",
              "    [theme=dark] .colab-df-convert {\n",
              "      background-color: #3B4455;\n",
              "      fill: #D2E3FC;\n",
              "    }\n",
              "\n",
              "    [theme=dark] .colab-df-convert:hover {\n",
              "      background-color: #434B5C;\n",
              "      box-shadow: 0px 1px 3px 1px rgba(0, 0, 0, 0.15);\n",
              "      filter: drop-shadow(0px 1px 2px rgba(0, 0, 0, 0.3));\n",
              "      fill: #FFFFFF;\n",
              "    }\n",
              "  </style>\n",
              "\n",
              "      <script>\n",
              "        const buttonEl =\n",
              "          document.querySelector('#df-b6aa7aa0-741c-4f00-a0a1-2a54c531fa33 button.colab-df-convert');\n",
              "        buttonEl.style.display =\n",
              "          google.colab.kernel.accessAllowed ? 'block' : 'none';\n",
              "\n",
              "        async function convertToInteractive(key) {\n",
              "          const element = document.querySelector('#df-b6aa7aa0-741c-4f00-a0a1-2a54c531fa33');\n",
              "          const dataTable =\n",
              "            await google.colab.kernel.invokeFunction('convertToInteractive',\n",
              "                                                     [key], {});\n",
              "          if (!dataTable) return;\n",
              "\n",
              "          const docLinkHtml = 'Like what you see? Visit the ' +\n",
              "            '<a target=\"_blank\" href=https://colab.research.google.com/notebooks/data_table.ipynb>data table notebook</a>'\n",
              "            + ' to learn more about interactive tables.';\n",
              "          element.innerHTML = '';\n",
              "          dataTable['output_type'] = 'display_data';\n",
              "          await google.colab.output.renderOutput(dataTable, element);\n",
              "          const docLink = document.createElement('div');\n",
              "          docLink.innerHTML = docLinkHtml;\n",
              "          element.appendChild(docLink);\n",
              "        }\n",
              "      </script>\n",
              "    </div>\n",
              "  </div>\n",
              "  "
            ]
          },
          "metadata": {},
          "execution_count": 3
        }
      ]
    },
    {
      "cell_type": "markdown",
      "source": [
        "**Uniqueness of Data in Each Category**"
      ],
      "metadata": {
        "id": "NKI0uBm33Juh"
      }
    },
    {
      "cell_type": "code",
      "source": [
        "print('Years: \\n', medaldata['Year'].unique())\n",
        "print('\\n============================================\\n')\n",
        "print('Country Codes: \\n', medaldata['NOC'].unique())\n",
        "print('\\n============================================\\n')\n",
        "print('Sport types:\\n', medaldata['Sport'].unique())\n",
        "print('\\n============================================\\n')\n",
        "print('Discipline types:\\n', medaldata['Discipline'].unique())\n",
        "print('\\n============================================\\n')\n",
        "print('Event types:\\n', medaldata['Event'].unique())\n",
        "print('\\n============================================\\n')\n",
        "print('Genders:\\n', medaldata['Event gender'].unique())\n",
        "print('\\n============================================\\n')\n",
        "print('Prizes:\\n', medaldata['Medal'].unique())"
      ],
      "metadata": {
        "colab": {
          "base_uri": "https://localhost:8080/"
        },
        "id": "zj5Wx7S81TFF",
        "outputId": "4faff62b-8498-4edb-9619-26b4f7a04066"
      },
      "execution_count": 4,
      "outputs": [
        {
          "output_type": "stream",
          "name": "stdout",
          "text": [
            "Years: \n",
            " [1924 1928 1932 1936 1948 1952 1956 1960 1964 1968 1972 1976 1980 1984\n",
            " 1988 1992 1994 1998 2002 2006]\n",
            "\n",
            "============================================\n",
            "\n",
            "Country Codes: \n",
            " ['AUT' 'BEL' 'CAN' 'FIN' 'FRA' 'GBR' 'NOR' 'SUI' 'SWE' 'USA' 'GER' 'TCH'\n",
            " 'HUN' 'ITA' 'FRG' 'NED' 'EUA' 'JPN' 'POL' 'URS' 'PRK' 'GDR' 'ROU' 'ESP'\n",
            " 'LIE' 'BUL' 'YUG' 'CHN' 'EUN' 'KOR' 'LUX' 'NZL' 'AUS' 'BLR' 'KAZ' 'RUS'\n",
            " 'SLO' 'UKR' 'UZB' 'CZE' 'DEN' 'CRO' 'EST' 'LAT' 'SVK']\n",
            "\n",
            "============================================\n",
            "\n",
            "Sport types:\n",
            " ['Skating' 'Bobsleigh' 'Ice Hockey' 'Biathlon' 'Skiing' 'Curling' 'Luge']\n",
            "\n",
            "============================================\n",
            "\n",
            "Discipline types:\n",
            " ['Figure skating' 'Bobsleigh' 'Ice Hockey' 'Biathlon' 'Speed skating'\n",
            " 'Cross Country S' 'Curling' 'Nordic Combined' 'Ski Jumping' 'Skeleton'\n",
            " 'Alpine Skiing' 'Luge' 'Short Track S.' 'Freestyle Ski.' 'Snowboard']\n",
            "\n",
            "============================================\n",
            "\n",
            "Event types:\n",
            " ['individual' 'pairs' 'four-man' 'ice hockey' 'military patrol' '10000m'\n",
            " '1500m' '5000m' '500m' 'combined (4 events)' '18km' 'curling' '50km'\n",
            " 'K90 individual (70m)' 'five-man' 'two-man' '4x10km relay'\n",
            " 'alpine combined' 'downhill' 'slalom' 'giant slalom' '10km'\n",
            " '30km mass start' '3x5km relay' '15km' '1000m' '20km' '3000m' 'doubles'\n",
            " 'singles' '5km' 'K120 individual (90m)' '4x7.5km relay' '4x5km relay'\n",
            " 'ice dancing' 'super-G' 'Team' 'K120 team (90m)' '3000m relay'\n",
            " '5000m relay' '3x7.5km relay' '7.5km' '15km mass start' '30km'\n",
            " 'Combined 5km + 10km pursuit' 'moguls' '10km pursuit'\n",
            " 'Combined 10km + 15km pursuit' 'aerials' 'giant-slalom' 'Half-pipe'\n",
            " 'sprint' '5km pursuit' '12.5km pursuit' 'Giant parallel slalom'\n",
            " 'Sprint 1.5km' 'sprint 1.5km' 'Alpine combined' 'Individual'\n",
            " 'Individual sprint' 'Team pursuit' 'Team sprint' 'Snowboard Cross'\n",
            " 'Combined 7.5 + 7.5km mass start' '4x6km relay' '12.5km mass start'\n",
            " 'Combined 15 + 15km mass start']\n",
            "\n",
            "============================================\n",
            "\n",
            "Genders:\n",
            " ['M' 'W' 'X']\n",
            "\n",
            "============================================\n",
            "\n",
            "Prizes:\n",
            " ['Silver' 'Gold' 'Bronze']\n"
          ]
        }
      ]
    },
    {
      "cell_type": "markdown",
      "source": [
        "**Data Mining With Pandas**"
      ],
      "metadata": {
        "id": "36qQPg-USY5b"
      }
    },
    {
      "cell_type": "code",
      "source": [
        "# Prizes Information with Dataframe.info()\n",
        "medaldata.info()"
      ],
      "metadata": {
        "colab": {
          "base_uri": "https://localhost:8080/"
        },
        "id": "AUQDfU4sRz_0",
        "outputId": "1a459b54-9376-41d3-c933-9f70809bc344"
      },
      "execution_count": 6,
      "outputs": [
        {
          "output_type": "stream",
          "name": "stdout",
          "text": [
            "<class 'pandas.core.frame.DataFrame'>\n",
            "RangeIndex: 2311 entries, 0 to 2310\n",
            "Data columns (total 8 columns):\n",
            " #   Column        Non-Null Count  Dtype \n",
            "---  ------        --------------  ----- \n",
            " 0   Year          2311 non-null   int64 \n",
            " 1   City          2311 non-null   object\n",
            " 2   Sport         2311 non-null   object\n",
            " 3   Discipline    2311 non-null   object\n",
            " 4   NOC           2311 non-null   object\n",
            " 5   Event         2311 non-null   object\n",
            " 6   Event gender  2311 non-null   object\n",
            " 7   Medal         2311 non-null   object\n",
            "dtypes: int64(1), object(7)\n",
            "memory usage: 144.6+ KB\n"
          ]
        }
      ]
    },
    {
      "cell_type": "markdown",
      "source": [
        "As shown above, there are 2311 instances without any missing data in each category"
      ],
      "metadata": {
        "id": "G1_oxs06SGCs"
      }
    },
    {
      "cell_type": "code",
      "source": [
        "# The categories and their amount of attribute 'Year'\n",
        "medaldata['Year'].value_counts()"
      ],
      "metadata": {
        "colab": {
          "base_uri": "https://localhost:8080/"
        },
        "id": "Vt9SwkPuSWOE",
        "outputId": "b3ff2166-ec84-44b3-d976-490847cee74f"
      },
      "execution_count": 15,
      "outputs": [
        {
          "output_type": "execute_result",
          "data": {
            "text/plain": [
              "2006    252\n",
              "2002    234\n",
              "1998    205\n",
              "1994    183\n",
              "1992    171\n",
              "1988    138\n",
              "1984    117\n",
              "1980    115\n",
              "1976    111\n",
              "1968    106\n",
              "1972    105\n",
              "1964    103\n",
              "1960     81\n",
              "1956     72\n",
              "1948     68\n",
              "1952     67\n",
              "1936     51\n",
              "1924     49\n",
              "1932     42\n",
              "1928     41\n",
              "Name: Year, dtype: int64"
            ]
          },
          "metadata": {},
          "execution_count": 15
        }
      ]
    },
    {
      "cell_type": "code",
      "source": [
        "# The categories and their amount of attribute 'Sport'\n",
        "medaldata['Sport'].value_counts()"
      ],
      "metadata": {
        "colab": {
          "base_uri": "https://localhost:8080/"
        },
        "id": "SiMqNL7LS_fd",
        "outputId": "1c9b6217-2038-4bba-a8c6-500ad8f2e7fd"
      },
      "execution_count": 16,
      "outputs": [
        {
          "output_type": "execute_result",
          "data": {
            "text/plain": [
              "Skiing        1060\n",
              "Skating        758\n",
              "Biathlon       162\n",
              "Bobsleigh      133\n",
              "Luge           108\n",
              "Ice Hockey      69\n",
              "Curling         21\n",
              "Name: Sport, dtype: int64"
            ]
          },
          "metadata": {},
          "execution_count": 16
        }
      ]
    },
    {
      "cell_type": "markdown",
      "source": [
        "The categories of 'Year' are numerical, and the categories of 'Sport', in particular, and the others, in general, are text attribute ('object' type values). Although they are different in type of attribute, but they are countable categories thanks to the data file is in form of a CSV file"
      ],
      "metadata": {
        "id": "JI7HHu12Tr80"
      }
    },
    {
      "cell_type": "markdown",
      "source": [
        "**Using Pandas to Count the Amount of Attributes with Constrains**"
      ],
      "metadata": {
        "id": "Ki2QO3LiZfVb"
      }
    },
    {
      "cell_type": "code",
      "source": [
        "### This function counts the number of specified gender competitors of a particular country through years ###\n",
        "#     Paramters: Data Frame: dataframe\n",
        "#                Category for x-axis: string catx\n",
        "#                Category for y-axis: string caty\n",
        "#                Conditional category for the bar graph: string cond-cat\n",
        "#                Conditional value for category y: string caty_val\n",
        "#                Bar graph width: string  bar_width\n",
        "#                Bar graph color: string  bar_color\n",
        "#                Figure Width   : float   fig_w\n",
        "#                Figure Height  : float   fig_h\n",
        "#                Show or Not to : boolean show_bool\n",
        "#     Outputs: List of years, List of Amount of Attributes Each Year\n",
        "\n",
        "def bar_creator(dataframe, catx, caty, cond_cat, caty_val, cond_val, bar_width, bar_color, fig_w, fig_h, show_bool):\n",
        "\n",
        "  # From data frame to array to list\n",
        "  catx_lst    = list(medaldata[catx].unique())\n",
        "  catx_strlst = [0]*len(catx_lst)\n",
        "  caty_attr   = [0]*len(catx_lst)\n",
        "\n",
        "  # Counting the value of category y\n",
        "  for x in catx_lst:\n",
        "    index_val = catx_lst.index(x)\n",
        "    num_val = medaldata[(medaldata[catx] == x)&(medaldata[caty] == caty_val)&(medaldata[cond_cat] == cond_val)].count()[caty]\n",
        "    caty_attr[index_val] = num_val\n",
        "\n",
        "  # Create a string version of category x list\n",
        "  if type(catx_lst[0]) != str:\n",
        "    for x in catx_lst:\n",
        "      index_val = catx_lst.index(x)\n",
        "      catx_strlst[index_val] = str(x)\n",
        "\n",
        "  # Bar graph creating\n",
        "    # Labels and Title\n",
        "  title_str = \"The '{cy}' category respect to the '{cx}' category of {cond}\"\n",
        "  title_str = title_str.format(cy = caty, cx = catx, cond = cond_val)\n",
        "\n",
        "  xlab = \"The category '{cx}'\"\n",
        "  ylab = \"The category '{cy}'\"\n",
        "  xlab = xlab.format(cx = catx)\n",
        "  ylab = ylab.format(cy = caty)\n",
        "\n",
        "  plt.rcParams[\"figure.figsize\"] =(fig_w, fig_h)\n",
        "\n",
        "  # Plotting Flow\n",
        "  if(show_bool == True):\n",
        "      # If the category x is a text category\n",
        "    if catx_strlst[0] == 0:\n",
        "\n",
        "      # Display its attributes\n",
        "      plt.bar(catx_lst, caty_attr, width = bar_width, color = bar_color)\n",
        "      plt.title(title_str)\n",
        "      plt.xlabel(xlab)\n",
        "      plt.ylabel(ylab)\n",
        "      plt.show()\n",
        "\n",
        "    else:\n",
        "\n",
        "      # Else, display its string-converted attributes\n",
        "      plt.bar(catx_strlst, caty_attr, width = bar_width, color = bar_color)\n",
        "      plt.title(title_str)\n",
        "      plt.xlabel(xlab)\n",
        "      plt.ylabel(ylab)\n",
        "      plt.show()\n",
        "  \n",
        "  else:\n",
        "    return catx_lst, caty_attr\n",
        "\n",
        "  # Return computed value\n",
        "  return catx_lst, caty_attr"
      ],
      "metadata": {
        "id": "H6Uu0vbcWb7l"
      },
      "execution_count": 101,
      "outputs": []
    },
    {
      "cell_type": "markdown",
      "source": [
        "**== Some Tests ==**\\\n",
        "This bar graph shows the number of female competitors of Japan through out years"
      ],
      "metadata": {
        "id": "qKgFJI4RgfHj"
      }
    },
    {
      "cell_type": "code",
      "source": [
        "year_lst, female_attr = bar_creator(medaldata, 'Year', 'Event gender', 'NOC', 'W', 'JPN', 0.5, 'red', 20, 10, True)"
      ],
      "metadata": {
        "colab": {
          "base_uri": "https://localhost:8080/",
          "height": 621
        },
        "id": "ugFXHbeeYiM8",
        "outputId": "b0fc1c03-b287-444b-eb0f-99b27d3123b8"
      },
      "execution_count": 102,
      "outputs": [
        {
          "output_type": "display_data",
          "data": {
            "text/plain": [
              "<Figure size 1440x720 with 1 Axes>"
            ],
            "image/png": "[encoded data removed]"
          },
          "metadata": {
            "needs_background": "light"
          }
        }
      ]
    },
    {
      "cell_type": "markdown",
      "source": [
        "This bar graph shows the number of male competitors of each country in 1968"
      ],
      "metadata": {
        "id": "m9LMuzzij7by"
      }
    },
    {
      "cell_type": "code",
      "source": [
        "year_lst, male_attr = bar_creator(medaldata, 'NOC', 'Event gender', 'Year', 'M', 1960, 0.5, 'cyan', 20, 10, True)"
      ],
      "metadata": {
        "colab": {
          "base_uri": "https://localhost:8080/",
          "height": 621
        },
        "id": "DNpDHyGikJDA",
        "outputId": "9eceb839-2435-442a-d407-aa824d63986b"
      },
      "execution_count": 103,
      "outputs": [
        {
          "output_type": "display_data",
          "data": {
            "text/plain": [
              "<Figure size 1440x720 with 1 Axes>"
            ],
            "image/png": "[encoded data removed]"
          },
          "metadata": {
            "needs_background": "light"
          }
        }
      ]
    },
    {
      "cell_type": "markdown",
      "source": [],
      "metadata": {
        "id": "_9oOuDx3krzQ"
      }
    },
    {
      "cell_type": "markdown",
      "source": [
        "This bar graph shows the number of male competitors of USA through out years"
      ],
      "metadata": {
        "id": "rLbSbwL_ktYx"
      }
    },
    {
      "cell_type": "code",
      "source": [
        "year_lst, male_attr = bar_creator(medaldata, 'Year', 'Event gender', 'NOC', 'M', 'USA', 0.5, 'blue', 20, 10, True)"
      ],
      "metadata": {
        "colab": {
          "base_uri": "https://localhost:8080/",
          "height": 621
        },
        "id": "5Len-ceXk0F3",
        "outputId": "013d008d-66f1-4269-b5b6-500ed70aa90f"
      },
      "execution_count": 104,
      "outputs": [
        {
          "output_type": "display_data",
          "data": {
            "text/plain": [
              "<Figure size 1440x720 with 1 Axes>"
            ],
            "image/png": "[encoded data removed]"
          },
          "metadata": {
            "needs_background": "light"
          }
        }
      ]
    },
    {
      "cell_type": "markdown",
      "source": [
        "This graph shows the amount of Gold Medals of Finnland Through Years"
      ],
      "metadata": {
        "id": "_N50Y6POvhFn"
      }
    },
    {
      "cell_type": "code",
      "source": [
        "year_lst, golden_attr = bar_creator(medaldata, 'Year', 'Medal', 'NOC', 'Gold', 'FIN', 0.5, 'red', 15, 10, True)"
      ],
      "metadata": {
        "colab": {
          "base_uri": "https://localhost:8080/",
          "height": 621
        },
        "id": "07EjwK4ylIwG",
        "outputId": "ea1d4fa9-1b35-4c8c-936a-25c1180ce4c7"
      },
      "execution_count": 120,
      "outputs": [
        {
          "output_type": "display_data",
          "data": {
            "text/plain": [
              "<Figure size 1080x720 with 1 Axes>"
            ],
            "image/png": "[encoded data removed]"
          },
          "metadata": {
            "needs_background": "light"
          }
        }
      ]
    }
  ]
}